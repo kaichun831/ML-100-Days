{
 "cells": [
  {
   "cell_type": "markdown",
   "metadata": {},
   "source": [
    "# 作業\n",
    "請使用不同的資料集，並使用 hyper-parameter search 的方式，看能不能找出最佳的超參數組合"
   ]
  },
  {
   "cell_type": "code",
   "execution_count": 1,
   "metadata": {},
   "outputs": [],
   "source": [
    "from sklearn.model_selection import train_test_split,GridSearchCV\n",
    "from sklearn.ensemble import GradientBoostingRegressor\n",
    "from sklearn import datasets,metrics"
   ]
  },
  {
   "cell_type": "code",
   "execution_count": 2,
   "metadata": {},
   "outputs": [
    {
     "data": {
      "text/plain": [
       "0.030932259764894724"
      ]
     },
     "execution_count": 2,
     "metadata": {},
     "output_type": "execute_result"
    }
   ],
   "source": [
    "cancer=datasets.load_breast_cancer()\n",
    "x_train,x_test,y_train,y_test=train_test_split(cancer.data,cancer.target,test_size=0.25,random_state=42)\n",
    "clf=GradientBoostingRegressor()\n",
    "clf.fit(x_train,y_train)\n",
    "y_pr=clf.predict(x_test)\n",
    "\n",
    "#MSE均方誤差\n",
    "metrics.mean_squared_error(y_test,y_pr)"
   ]
  },
  {
   "cell_type": "code",
   "execution_count": 3,
   "metadata": {},
   "outputs": [
    {
     "name": "stdout",
     "output_type": "stream",
     "text": [
      "Fitting 3 folds for each of 25 candidates, totalling 75 fits\n"
     ]
    },
    {
     "name": "stderr",
     "output_type": "stream",
     "text": [
      "[Parallel(n_jobs=-1)]: Done  58 tasks      | elapsed:    2.0s\n",
      "[Parallel(n_jobs=-1)]: Done  68 out of  75 | elapsed:    2.2s remaining:    0.1s\n",
      "[Parallel(n_jobs=-1)]: Done  75 out of  75 | elapsed:    2.3s finished\n"
     ]
    }
   ],
   "source": [
    "#以電腦CPU計算以下數值哪組最佳參數\n",
    "n_estimators = [50,80,100,120,130]\n",
    "max_depth = [1,3,5,7,10]\n",
    "param=dict(n_estimators=n_estimators,max_depth=max_depth) #組成字典\n",
    "search=GridSearchCV(clf,param,scoring=\"neg_mean_squared_error\",n_jobs=-1,verbose=1)\n",
    "result=search.fit(x_train,y_train)"
   ]
  },
  {
   "cell_type": "code",
   "execution_count": 4,
   "metadata": {},
   "outputs": [
    {
     "name": "stdout",
     "output_type": "stream",
     "text": [
      "Best Accuracy: -0.043708 using {'max_depth': 3, 'n_estimators': 100}\n"
     ]
    }
   ],
   "source": [
    "print(\"Best Accuracy: %f using %s\" % (result.best_score_,result.best_params_))"
   ]
  },
  {
   "cell_type": "code",
   "execution_count": 5,
   "metadata": {},
   "outputs": [
    {
     "data": {
      "text/plain": [
       "{'max_depth': 3, 'n_estimators': 100}"
      ]
     },
     "execution_count": 5,
     "metadata": {},
     "output_type": "execute_result"
    }
   ],
   "source": [
    "#最好的參數\n",
    "result.best_params_"
   ]
  },
  {
   "cell_type": "code",
   "execution_count": 6,
   "metadata": {},
   "outputs": [
    {
     "data": {
      "text/plain": [
       "GradientBoostingRegressor(alpha=0.9, criterion='friedman_mse', init=None,\n",
       "             learning_rate=0.1, loss='ls', max_depth=3, max_features=None,\n",
       "             max_leaf_nodes=None, min_impurity_decrease=0.0,\n",
       "             min_impurity_split=None, min_samples_leaf=1,\n",
       "             min_samples_split=2, min_weight_fraction_leaf=0.0,\n",
       "             n_estimators=100, presort='auto', random_state=None,\n",
       "             subsample=1.0, verbose=0, warm_start=False)"
      ]
     },
     "execution_count": 6,
     "metadata": {},
     "output_type": "execute_result"
    }
   ],
   "source": [
    "clf2=GradientBoostingRegressor(max_depth=result.best_params_['max_depth'],\n",
    "                                           n_estimators=result.best_params_['n_estimators'])\n",
    "clf2.fit(x_train,y_train)"
   ]
  },
  {
   "cell_type": "code",
   "execution_count": 7,
   "metadata": {},
   "outputs": [
    {
     "name": "stdout",
     "output_type": "stream",
     "text": [
      "0.030243025989095822\n"
     ]
    }
   ],
   "source": [
    "y_pr2=clf2.predict(x_test)\n",
    "print(metrics.mean_squared_error(y_test, y_pr2))"
   ]
  }
 ],
 "metadata": {
  "kernelspec": {
   "display_name": "Python 3",
   "language": "python",
   "name": "python3"
  },
  "language_info": {
   "codemirror_mode": {
    "name": "ipython",
    "version": 3
   },
   "file_extension": ".py",
   "mimetype": "text/x-python",
   "name": "python",
   "nbconvert_exporter": "python",
   "pygments_lexer": "ipython3",
   "version": "3.6.5"
  }
 },
 "nbformat": 4,
 "nbformat_minor": 2
}
